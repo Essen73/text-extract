{
 "cells": [
  {
   "cell_type": "code",
   "execution_count": 1,
   "metadata": {},
   "outputs": [],
   "source": [
    "import PyPDF2 \n",
    "import textract\n",
    "from nltk.tokenize import word_tokenize\n",
    "from nltk.corpus import stopwords"
   ]
  },
  {
   "cell_type": "code",
   "execution_count": 2,
   "metadata": {},
   "outputs": [],
   "source": [
    "filename = '/home/paperspace/fastai/courses/dl1/data/Niyogi-JACS2008.pdf'"
   ]
  },
  {
   "cell_type": "markdown",
   "metadata": {},
   "source": [
    "## example of extracting text from pdf using textract\n",
    "### entire document is extracted; no need for looping through page numbers"
   ]
  },
  {
   "cell_type": "code",
   "execution_count": 3,
   "metadata": {
    "collapsed": true
   },
   "outputs": [
    {
     "data": {
      "text/plain": [
       "b'Published on Web 01/25/2007\\n\\nSelective Aggregation of Single-Walled Carbon Nanotubes via Salt Addition\\nSandip Niyogi,\\xe2\\x80\\xa0 Sofiane Boukhalfa,\\xe2\\x80\\xa0 Satishkumar B. Chikkannanavar,\\xe2\\x80\\xa0 Timothy J. McDonald,\\xe2\\x80\\xa1\\nMichael J. Heben,\\xe2\\x80\\xa1 and Stephen K. Doorn*,\\xe2\\x80\\xa0\\nChemistry DiVision, Los Alamos National Laboratory, C-CSE, Los Alamos, New Mexico 87545, and Center for\\nBasic Sciences, National Renewable Energy Laboratory, Golden, Colorado 80401\\nReceived November 28, 2006; E-mail: skdoorn@lanl.gov\\n\\nSingle-walled carbon nanotubes (SWNTs) can be dispersed as\\nindividuals in H2O using sodium dodecylsulfate (SDS), typically\\nat 1% (35 mM) concentration. At and above the critical micellar\\nconcentration (cmc 8 mM at 25 \\xc2\\xb0C), the degree of ionization of\\nSDS is 0.27.1 Once intertube van der Waals (VdW) attraction is\\novercome by intense sonication, free SDS adsorbs to SWNT\\nsurfaces and creates a net surface density of negative charge, which\\nprevents SWNT reaggregation. In such solutions, the excitonic\\nabsorption and emission of light by the various SWNT chiralities\\ncan be observed.2-4 Any change in the surface charge density of\\nthe surfactant, or its solubility, that eliminates the electrostatic\\nrepulsion between the nanotubes will cause SWNTs to aggregate\\nand coagulate.4\\nBy controlling the intermolecular and surface forces of SDS in\\nwater, we show here that it is possible to engineer the resultant\\nVdW attraction between SWNTs. Titrating SWNT-SDS dispersions with salt solutions leads to diameter-dependent modulation\\nof the electrostatic repulsive forces; changes in the absorbance and\\nemission spectra of SWNTs are used to study these effects. We\\nascribe the observed spectroscopic changes to selective aggregation\\nof SWNT chiralities. Our experiments clearly demonstrate that\\ncertain SWNT chiralities deviate from a simple diameter-dependent\\nstability trend.\\nA 20.0 mg quantity of as-prepared HiPco SWNTs was dispersed\\nin 200 mL of 35 mM SDS (Fisher, 98%) in D2O (4.4 \\xc3\\x97 cmc),\\nusing the standard procedure of shear mixing and sonication\\nfollowed by ultracentrifugation.2 Microliter volumes of salt solutions\\n(\\xe2\\x88\\xbc1 M in D2O) were added to the SWNT dispersions at room\\ntemperature. The experiments were reproduced in up to 10 mL of\\nthe SWNT dispersions. Aliquots were taken out to record the\\nspectra. After salt addition, the solutions were either stirred or\\nallowed to stand overnight to attain equilibrium. Absorbance spectra\\nwere recorded in a Varian Cary 6000i instrument. Excitation maps\\nof the SWNT photoluminescence were recorded using a homebuilt FT-photoluminescence excitation (PLE) spectrometer with a\\nXe arc lamp source and a liquid N2-cooled Ge detector from a\\nmodified Nicolet NXR-9600 FT-IR spectrometer.5 Excitation power\\nat the sample was typically 1.3 mW, and the emission spectra were\\nintegrated over 128 scans. The single line (\\xce\\xbbEX ) 780 nm) emission\\nspectra (Figure 1) were recorded using the same Nicolet spectrometer with diode laser excitation.\\nSystematic changes in the emission features are observed as NaCl\\nis added to the SWNT dispersion (Figure 1). With respect to the\\nstarting SWNT dispersion (Figure 1A), in 0.14 M NaCl, the\\nbackground is suppressed and the emission intensity is enhanced,\\nparticularly for the larger-diameter SWNTs (Figure 1B). As the\\nconcentration of NaCl is increased, the emission from certain SWNT\\nchiralities is no longer observed. It is particularly interesting to note\\n\\xe2\\x80\\xa0\\n\\xe2\\x80\\xa1\\n\\nLos Alamos National Laboratory.\\nCenter for Basic Sciences, National Renewable Energy Laboratory.\\n\\n1898\\n\\n9\\n\\nJ. AM. CHEM. SOC. 2007, 129, 1898-1899\\n\\nFigure 1. Spectroscopy of SWNT-SDS dispersions as a function of salt\\nconcentration and temperature. (A) emission spectrum of the starting\\nSWNT-SDS dispersion; (B) same solution in 0.14 M NaCl; (C) in 0.43 M\\nNaCl, and (D) in 0.57 M NaCl; (E) absorption spectrum with and without\\nNaCl (0.17 M); (F) change in the absorption spectrum at temperatures below\\nthe critical micellar temperature.\\n\\nthat in the band corresponding to the (10,5) and (8,7) emissions,\\nthe (10,5) emission is no longer visible in 0.43 M NaCl (Figure\\n1C); similarly, (11,3) and (9,4) signals are absent. The emission\\nintensity of (7,5) and (6,5) chiralities increase, under the same\\nconditions. In 0.57 M NaCl, the (9,7) emission is also completely\\nlost (Figure 1D).\\nThe cmc of pure SDS is reduced to 1 mM in 0.16 M NaCl.6 The\\naddition of Na+ decreases the electrostatic repulsion between SDS\\nmolecules and results in an increase in their aggregation number.\\nSince we also observe that the completely aggregated dispersions\\nshow the background-only emission spectrum, the increase in the\\nemission intensity and loss of the background emission (Figure 1B)\\nmay be due to improved isolation of the SWNTs, related to the\\nionization degree and aggregation number of SDS under these\\nconditions (see also Supporting Information, Figure S2).6,7 Above\\n0.5 M NaCl, pure SDS is no longer soluble in water at 25 \\xc2\\xb0C;8\\nunder these conditions, the Kraft point of pure SDS is raised above\\n25 \\xc2\\xb0C.9 The Kraft point is the melting point of a hydrated surfactant;\\nit is raised by the addition of salt in water. We expect the\\nconcentration of NaCl necessary to affect the stability of SWNT/\\nSDS dispersions to be different from values previously obtained\\nfor pure SDS solutions. However, lowering the dispersion temperature should yield an effect similar to elevating the Kraft point.\\nWe observe a diameter-dependent change in the absorbance\\nspectrum on centrifuging the SWNT dispersion at 70000g for 3 h,\\nat 10 \\xc2\\xb0C (Figure 1F), similar to the effect of adding NaCl\\n(Figure 1E).\\nThus, manipulation of SDS equilibria results in loss of free SDS\\nin solution, through precipitation or further micellization. SWNT10.1021/ja068321j CCC: $37.00 \\xc2\\xa9 2007 American Chemical Society\\n\\n\\x0cCOMMUNICATIONS\\n\\nFigure 2. Absorption spectra of SWNTs showing the chirality-dependent\\naggregation and broadening in the presence of salts of varying counterion\\nvalency and ionic strengths.\\n\\nbound SDS is lost in response, resulting in nanotube aggregation\\nas electrostatic repulsion is reduced. That large-diameter tubes are\\nobserved to selectively aggregate first in these experiments is likely\\na consequence of a progressively increasing stability of SDS binding\\nto smaller-diameter SWNTs.10 Addition of salt at constant SDS\\nconcentration allows us to observe the intermediate equilibria where\\ncertain SWNT chiralities exhibit enhanced stability with respect to\\naggregation, when compared to chiralities of similar diameter.\\nSpecifically, as seen in Figure 1B-D, the (12,1), (9,7), and (8,7)\\nchiralities do not aggregate (see Supporting Information), while\\nspectral features from similar diameter SWNTs are lost. Chirality\\nspecific SWNT-surfactant interactions may be responsible for this\\nadditional stability.\\nCharge screening effects can also reduce intertube repulsion. The\\nSWNT-SDS system can be considered to be a negative surface of\\nSO4- with Na+ counterions. The density of the SO4- groups\\ndetermines the surface potential of the SWNTs, which in turn would\\ndetermine the separation between adjacent SWNTs. If the ionic\\nconcentration of the counterion is increased, the surface can be\\ncompletely neutralized, at which point the adjacent SWNTs would\\ncome into contact due to van der Waals attraction.11 The concentration of counterions necessary to completely neutralize the surface\\ncharge decreases significantly for divalent or trivalent cations, due\\nto better charge screening.11\\nIn Figure 2, we show the effect of di- and trivalent counterions\\non the absorbance spectrum of SWNTs. In general, the spectra show\\na progressive shift in the stability of SWNT chiralities toward\\nnarrower diameters as the valency of the cation is increased (Figure\\n2B, D, and E). In Figure 2C and D, we compare the effect of ionic\\nstrength of the added salt on the stability of SWNT chiralities.\\nClearly, MgCl2 is relatively more efficient in aggregating SWNT\\nchiralities. Since the reactions are allowed to reach equilibrium,\\nthese results indicate that initial surface charge densities are lower\\nfor larger-diameter SWNTs.\\nThe emission spectrum of SWNTs is more sensitive to the\\ninternanotube distances. The change in the emission spectrum of\\nthe SWNT solutions is shown in Figure 3. The PLE map of the\\nstarting SWNT solution shows 14 SWNT chiralities distinctly\\n(Figure 3A). All chiralities present in the HiPco sample within the\\nlimits of our excitation range are labeled. The loss of the absorption\\npeaks in Figure 2 is concurrent with the absence of the corresponding emission bands.\\nThus, fine control over the SWNT aggregation state is possible\\nwith salt additions, which result in selective aggregation of a very\\nnarrow-diameter range. This behavior suggests that, at any particular\\n\\nFigure 3. Contour plots of SWNT photoluminescence with excitation from\\n500 to 800 nm at 5 nm intervals. Each bright spot corresponds to a SWNT\\nchirality as labeled. (A) The starting SWNT dispersion; (B) SWNTs in 57.5\\nmM NaCl; (C) SWNTs in 6.9 mM MgCl2; (D) SWNTs in 3.75 mM ErCl3.\\n\\nconcentration of salt being added, SWNTs of identical chiralities\\nmay self aggregate. Manipulating surfactant equilibria in the manner\\ndemonstrated above shows significant promise toward separation\\nof SWNTs by diameter and crystallization of pure chiralities.\\nIsolation of the aggregates in analytically pure form will require\\noptimization of the stability of the aggregates, over the various\\nvectors such as solution temperature and the nature of the\\ncounterion, as we identify in this work.\\nAcknowledgment. We thank Brian Fishbine and Cris Lewis\\nfor help with setting up the FT-PLE system. This work was\\nsupported by LANL LDRD funding. T.J.M. and M.J.H. were\\nsupported by the U.S. Department of Energy, Office of Science,\\nSolar Photochemistry Research Program.\\nSupporting Information Available: Chirality specific emission\\nintensity vs SWNT diameter analysis for Figure 1A-D. This material\\nis available free of charge via the Internet at http://pubs.acs.org.\\nReferences\\n(1) Bales, B. L. J. Phys. Chem. B 2001, 105, 6798.\\n(2) O\\xe2\\x80\\x99Connell, M. J.; Bachilo, S. M.; Huffman, C. B.; Moore, V. C.; Strano,\\nM. S.; Haroz, E. H.; Rialon, K. L.; Boul, P. J.; Noon, W. H.; Kittrell, C.;\\nMa, J.; Hauge, R. H.; Weisman, B. R.; Smalley, R. E. Science 2002, 297,\\n593.\\n(3) Bachilo, S. M.; Strano, M. S.; Kittrell, C.; Hauge, R. H.; Smalley, R. E.;\\nWeisman, R. B. Science 2002, 298, 2361.\\n(4) Tan, Y.; Resasco, D. E. J. Phys. Chem. B 2005, 109, 14454.\\n(5) McDonald, T. J.; Jones, M.; Engtrakul, C.; Ellingson, R. J.; Rumbles, G.;\\nHeben, M. J. ReV. Sci. Instrum. 2006, 77, 053104.\\n(6) Wanless, E. J.; Ducker, W. A. J. Phys. Chem. B 1996, 100, 3207.\\n(7) Benrraou, M.; Bales, B. L.; Zana, R. J. Phys. Chem. B 2003, 107, 13432.\\n(8) Hayashi, S.; Ikeda, S. J. Phys. Chem. B 1980, 84, 744.\\n(9) Nakayama, H.; Shinoda, K. Bull. Chem. Soc. Jpn. 1967, 40, 1797.\\n(10) McDonald, T. J.; Engtrakul, C.; Jones, M.; Rumbles, G.; Heben, M. J.\\nJ. Phys. Chem. B 2006, 110, 25339.\\n(11) Israelachvili, J. N. Intermolecular and Surface Forces; Academic Press:\\nSan Diego, 1985.\\n\\nJA068321J\\nJ. AM. CHEM. SOC.\\n\\n9\\n\\nVOL. 129, NO. 7, 2007 1899\\n\\n\\x0c'"
      ]
     },
     "execution_count": 3,
     "metadata": {},
     "output_type": "execute_result"
    }
   ],
   "source": [
    "text = textract.process(filename)\n",
    "text"
   ]
  },
  {
   "cell_type": "code",
   "execution_count": 4,
   "metadata": {},
   "outputs": [],
   "source": [
    "### Save the extracted text as a *.txt file\n",
    "\n",
    "f = open('Niyogi-JACS2008.txt', 'wb')\n",
    "f.write(text)\n",
    "f.close()"
   ]
  },
  {
   "cell_type": "markdown",
   "metadata": {},
   "source": [
    "## example of extracting text from pdf using pyPDF2\n",
    "### results in parts of sentences between punctuations interpreted as words"
   ]
  },
  {
   "cell_type": "code",
   "execution_count": null,
   "metadata": {},
   "outputs": [],
   "source": [
    "#open allows you to read the file\n",
    "pdfFileObj = open(filename, 'rb')"
   ]
  },
  {
   "cell_type": "code",
   "execution_count": null,
   "metadata": {},
   "outputs": [],
   "source": [
    "#The pdfReader variable is a readable object that will be parsed\n",
    "pdfReader = PyPDF2.PdfFileReader(pdfFileObj)"
   ]
  },
  {
   "cell_type": "code",
   "execution_count": null,
   "metadata": {},
   "outputs": [],
   "source": [
    "pageObj = pdfReader.getPage(0)\n",
    "pageObj.extractText()"
   ]
  },
  {
   "cell_type": "code",
   "execution_count": null,
   "metadata": {},
   "outputs": [],
   "source": [
    "#discerning the number of pages will allow us to parse through all #the pages\n",
    "num_pages = pdfReader.numPages\n",
    "count = 0\n",
    "text = \"\"\n",
    "#The while loop will read each page\n",
    "while count < num_pages:\n",
    "    pageObj = pdfReader.getPage(count)\n",
    "    count +=1\n",
    "    text += pageObj.extractText()"
   ]
  },
  {
   "cell_type": "code",
   "execution_count": null,
   "metadata": {},
   "outputs": [],
   "source": [
    "#This if statement exists to check if the above library returned #words. It's done because PyPDF2 cannot read scanned files.\n",
    "if text != \"\":\n",
    "   text = text\n",
    "#If the above returns as False, we run the OCR library textract to #convert scanned/image based PDF files into text\n",
    "else:\n",
    "       text = textract.process(filename, method='tesseract', language='eng')"
   ]
  },
  {
   "cell_type": "markdown",
   "metadata": {},
   "source": [
    "### Save the extracted text as a *.txt file"
   ]
  },
  {
   "cell_type": "code",
   "execution_count": null,
   "metadata": {},
   "outputs": [],
   "source": [
    "f = open('Niyogi-JACS2008.txt', 'wb')\n",
    "f.write(text)\n",
    "f.close()"
   ]
  },
  {
   "cell_type": "code",
   "execution_count": null,
   "metadata": {},
   "outputs": [],
   "source": [
    "print(text)"
   ]
  },
  {
   "cell_type": "markdown",
   "metadata": {},
   "source": [
    "# Method for creating tokens from the .txt file using fastai library"
   ]
  },
  {
   "cell_type": "code",
   "execution_count": 5,
   "metadata": {},
   "outputs": [],
   "source": [
    "%reload_ext autoreload\n",
    "%autoreload 2\n",
    "%matplotlib inline\n",
    "\n",
    "from fastai.io import *\n",
    "from fastai.conv_learner import *\n",
    "\n",
    "from fastai.column_data import *"
   ]
  },
  {
   "cell_type": "code",
   "execution_count": 6,
   "metadata": {},
   "outputs": [],
   "source": [
    "import sys\n",
    "sys.path.append('/home/paperspace/fastai/')"
   ]
  },
  {
   "cell_type": "code",
   "execution_count": 7,
   "metadata": {},
   "outputs": [],
   "source": [
    "path='/home/paperspace/fastai/courses/dl1/data/'"
   ]
  },
  {
   "cell_type": "code",
   "execution_count": 8,
   "metadata": {},
   "outputs": [],
   "source": [
    "file=f'{path}Niyogi-JACS2008.txt'"
   ]
  },
  {
   "cell_type": "code",
   "execution_count": 9,
   "metadata": {},
   "outputs": [
    {
     "name": "stdout",
     "output_type": "stream",
     "text": [
      "corpus length: 11135\n"
     ]
    }
   ],
   "source": [
    "#get_data(\"https://s3.amazonaws.com/text-datasets/nietzsche.txt\", f'{PATH}nietzsche.txt')\n",
    "text = open(f'{file}').read()\n",
    "print('corpus length:', len(text))"
   ]
  },
  {
   "cell_type": "code",
   "execution_count": 10,
   "metadata": {},
   "outputs": [
    {
     "data": {
      "text/plain": [
       "'Published on Web 01/25/2007\\n\\nSelective Aggregation of Single-Walled Carbon Nanotubes via Salt Addition\\nSandip Niyogi,† Sofiane Boukhalfa,† Satishkumar B. Chikkannanavar,† Timothy J. McDonald,‡\\nMichael J. Heben,‡ and Stephen K. Doorn*,†\\nChemistry DiVision, Los Alamos National Laboratory, C-CSE, Los Alamos, New Mexico 87545, and Center for\\nBasic Sciences, National Renewable Energy Laboratory, Golden'"
      ]
     },
     "execution_count": 10,
     "metadata": {},
     "output_type": "execute_result"
    }
   ],
   "source": [
    "text[:400]"
   ]
  },
  {
   "cell_type": "code",
   "execution_count": 11,
   "metadata": {},
   "outputs": [
    {
     "name": "stdout",
     "output_type": "stream",
     "text": [
      "total chars: 86\n"
     ]
    }
   ],
   "source": [
    "chars = sorted(list(set(text)))\n",
    "vocab_size = len(chars)+1\n",
    "print('total chars:', vocab_size)"
   ]
  },
  {
   "cell_type": "code",
   "execution_count": 12,
   "metadata": {},
   "outputs": [
    {
     "data": {
      "text/plain": [
       "'\\n\\x0c $%()*+,-./0123456789:;@ABCDEFGHIJKLMNOPRSTUVWXYZabcdefghijklmnopqrstuvwxyz©°'"
      ]
     },
     "execution_count": 12,
     "metadata": {},
     "output_type": "execute_result"
    }
   ],
   "source": [
    "chars.insert(0, \"\\0\")\n",
    "\n",
    "''.join(chars[1:-6])"
   ]
  },
  {
   "cell_type": "code",
   "execution_count": 13,
   "metadata": {},
   "outputs": [],
   "source": [
    "char_indices = {c: i for i, c in enumerate(chars)}\n",
    "indices_char = {i: c for i, c in enumerate(chars)}"
   ]
  },
  {
   "cell_type": "code",
   "execution_count": 14,
   "metadata": {},
   "outputs": [
    {
     "data": {
      "text/plain": [
       "[42, 72, 53, 63, 60, 70, 59, 56, 55, 3]"
      ]
     },
     "execution_count": 14,
     "metadata": {},
     "output_type": "execute_result"
    }
   ],
   "source": [
    "idx = [char_indices[c] for c in text]\n",
    "\n",
    "idx[:10]"
   ]
  },
  {
   "cell_type": "code",
   "execution_count": 15,
   "metadata": {
    "collapsed": true
   },
   "outputs": [
    {
     "data": {
      "text/plain": [
       "'Published on Web 01/25/2007\\n\\nSelective Aggregation of Single-Walled Carbon Nanotubes via Salt Addition\\nSandip Niyogi,† Sofiane Boukhalfa,† Satishkumar B. Chikkannanavar,† Timothy J. McDonald,‡\\nMichael J. Heben,‡ and Stephen K. Doorn*,†\\nChemistry DiVision, Los Alamos National Laboratory, C-CSE, Los Alamos, New Mexico 87545, and Center for\\nBasic Sciences, National Renewable Energy Laboratory, Golden, Colorado 80401\\nReceived November 28, 2006; E-mail: skdoorn@lanl.gov\\n\\nSingle-walled carbon nanotubes (SWNTs) can be dispersed as\\nindividuals in H2O using sodium dodecylsulfate (SDS), typically\\nat 1% (35 mM) concentration. At and above the critical micellar\\nconcentration (cmc 8 mM at 25 °C), the degree of ionization of\\nSDS is 0.27.1 Once intertube van der Waals (VdW) attraction is\\novercome by intense sonication, free SDS adsorbs to SWNT\\nsurfaces and creates a net surface density of negative charge, which\\nprevents SWNT reaggregation. In such solutions, the excitonic\\nabsorption and emission of light by the various SWNT chiralities\\ncan be observed.2-4 Any change in the surface charge density of\\nthe surfactant, or its solubility, that eliminates the electrostatic\\nrepulsion between the nanotubes will cause SWNTs to aggregate\\nand coagulate.4\\nBy controlling the intermolecular and surface forces of SDS in\\nwater, we show here that it is possible to engineer the resultant\\nVdW attraction between SWNTs. Titrating SWNT-SDS dispersions with salt solutions leads to diameter-dependent modulation\\nof the electrostatic repulsive forces; changes in the absorbance and\\nemission spectra of SWNTs are used to study these effects. We\\nascribe the observed spectroscopic changes to selective aggregation\\nof SWNT chiralities. Our experiments clearly demonstrate that\\ncertain SWNT chiralities deviate from a simple diameter-dependent\\nstability trend.\\nA 20.0 mg quantity of as-prepared HiPco SWNTs was dispersed\\nin 200 mL of 35 mM SDS (Fisher, 98%) in D2O (4.4 × cmc),\\nusing the standard procedure of shear mixing and sonication\\nfollowed by ultracentrifugation.2 Microliter volumes of salt solutions\\n(∼1 M in D2O) were added to the SWNT dispersions at room\\ntemperature. The experiments were reproduced in up to 10 mL of\\nthe SWNT dispersions. Aliquots were taken out to record the\\nspectra. After salt addition, the solutions were either stirred or\\nallowed to stand overnight to attain equilibrium. Absorbance spectra\\nwere recorded in a Varian Cary 6000i instrument. Excitation maps\\nof the SWNT photoluminescence were recorded using a homebuilt FT-photoluminescence excitation (PLE) spectrometer with a\\nXe arc lamp source and a liquid N2-cooled Ge detector from a\\nmodified Nicolet NXR-9600 FT-IR spectrometer.5 Excitation power\\nat the sample was typically 1.3 mW, and the emission spectra were\\nintegrated over 128 scans. The single line (λEX ) 780 nm) emission\\nspectra (Figure 1) were recorded using the same Nicolet spectrometer with diode laser excitation.\\nSystematic changes in the emission features are observed as NaCl\\nis added to the SWNT dispersion (Figure 1). With respect to the\\nstarting SWNT dispersion (Figure 1A), in 0.14 M NaCl, the\\nbackground is suppressed and the emission intensity is enhanced,\\nparticularly for the larger-diameter SWNTs (Figure 1B). As the\\nconcentration of NaCl is increased, the emission from certain SWNT\\nchiralities is no longer observed. It is particularly interesting to note\\n†\\n‡\\n\\nLos Alamos National Laboratory.\\nCenter for Basic Sciences, National Renewable Energy Laboratory.\\n\\n1898\\n\\n9\\n\\nJ. AM. CHEM. SOC. 2007, 129, 1898-1899\\n\\nFigure 1. Spectroscopy of SWNT-SDS dispersions as a function of salt\\nconcentration and temperature. (A) emission spectrum of the starting\\nSWNT-SDS dispersion; (B) same solution in 0.14 M NaCl; (C) in 0.43 M\\nNaCl, and (D) in 0.57 M NaCl; (E) absorption spectrum with and without\\nNaCl (0.17 M); (F) change in the absorption spectrum at temperatures below\\nthe critical micellar temperature.\\n\\nthat in the band corresponding to the (10,5) and (8,7) emissions,\\nthe (10,5) emission is no longer visible in 0.43 M NaCl (Figure\\n1C); similarly, (11,3) and (9,4) signals are absent. The emission\\nintensity of (7,5) and (6,5) chiralities increase, under the same\\nconditions. In 0.57 M NaCl, the (9,7) emission is also completely\\nlost (Figure 1D).\\nThe cmc of pure SDS is reduced to 1 mM in 0.16 M NaCl.6 The\\naddition of Na+ decreases the electrostatic repulsion between SDS\\nmolecules and results in an increase in their aggregation number.\\nSince we also observe that the completely aggregated dispersions\\nshow the background-only emission spectrum, the increase in the\\nemission intensity and loss of the background emission (Figure 1B)\\nmay be due to improved isolation of the SWNTs, related to the\\nionization degree and aggregation number of SDS under these\\nconditions (see also Supporting Information, Figure S2).6,7 Above\\n0.5 M NaCl, pure SDS is no longer soluble in water at 25 °C;8\\nunder these conditions, the Kraft point of pure SDS is raised above\\n25 °C.9 The Kraft point is the melting point of a hydrated surfactant;\\nit is raised by the addition of salt in water. We expect the\\nconcentration of NaCl necessary to affect the stability of SWNT/\\nSDS dispersions to be different from values previously obtained\\nfor pure SDS solutions. However, lowering the dispersion temperature should yield an effect similar to elevating the Kraft point.\\nWe observe a diameter-dependent change in the absorbance\\nspectrum on centrifuging the SWNT dispersion at 70000g for 3 h,\\nat 10 °C (Figure 1F), similar to the effect of adding NaCl\\n(Figure 1E).\\nThus, manipulation of SDS equilibria results in loss of free SDS\\nin solution, through precipitation or further micellization. SWNT10.1021/ja068321j CCC: $37.00 © 2007 American Chemical Society\\n\\n\\x0cCOMMUNICATIONS\\n\\nFigure 2. Absorption spectra of SWNTs showing the chirality-dependent\\naggregation and broadening in the presence of salts of varying counterion\\nvalency and ionic strengths.\\n\\nbound SDS is lost in response, resulting in nanotube aggregation\\nas electrostatic repulsion is reduced. That large-diameter tubes are\\nobserved to selectively aggregate first in these experiments is likely\\na consequence of a progressively increasing stability of SDS binding\\nto smaller-diameter SWNTs.10 Addition of salt at constant SDS\\nconcentration allows us to observe the intermediate equilibria where\\ncertain SWNT chiralities exhibit enhanced stability with respect to\\naggregation, when compared to chiralities of similar diameter.\\nSpecifically, as seen in Figure 1B-D, the (12,1), (9,7), and (8,7)\\nchiralities do not aggregate (see Supporting Information), while\\nspectral features from similar diameter SWNTs are lost. Chirality\\nspecific SWNT-surfactant interactions may be responsible for this\\nadditional stability.\\nCharge screening effects can also reduce intertube repulsion. The\\nSWNT-SDS system can be considered to be a negative surface of\\nSO4- with Na+ counterions. The density of the SO4- groups\\ndetermines the surface potential of the SWNTs, which in turn would\\ndetermine the separation between adjacent SWNTs. If the ionic\\nconcentration of the counterion is increased, the surface can be\\ncompletely neutralized, at which point the adjacent SWNTs would\\ncome into contact due to van der Waals attraction.11 The concentration of counterions necessary to completely neutralize the surface\\ncharge decreases significantly for divalent or trivalent cations, due\\nto better charge screening.11\\nIn Figure 2, we show the effect of di- and trivalent counterions\\non the absorbance spectrum of SWNTs. In general, the spectra show\\na progressive shift in the stability of SWNT chiralities toward\\nnarrower diameters as the valency of the cation is increased (Figure\\n2B, D, and E). In Figure 2C and D, we compare the effect of ionic\\nstrength of the added salt on the stability of SWNT chiralities.\\nClearly, MgCl2 is relatively more efficient in aggregating SWNT\\nchiralities. Since the reactions are allowed to reach equilibrium,\\nthese results indicate that initial surface charge densities are lower\\nfor larger-diameter SWNTs.\\nThe emission spectrum of SWNTs is more sensitive to the\\ninternanotube distances. The change in the emission spectrum of\\nthe SWNT solutions is shown in Figure 3. The PLE map of the\\nstarting SWNT solution shows 14 SWNT chiralities distinctly\\n(Figure 3A). All chiralities present in the HiPco sample within the\\nlimits of our excitation range are labeled. The loss of the absorption\\npeaks in Figure 2 is concurrent with the absence of the corresponding emission bands.\\nThus, fine control over the SWNT aggregation state is possible\\nwith salt additions, which result in selective aggregation of a very\\nnarrow-diameter range. This behavior suggests that, at any particular\\n\\nFigure 3. Contour plots of SWNT photoluminescence with excitation from\\n500 to 800 nm at 5 nm intervals. Each bright spot corresponds to a SWNT\\nchirality as labeled. (A) The starting SWNT dispersion; (B) SWNTs in 57.5\\nmM NaCl; (C) SWNTs in 6.9 mM MgCl2; (D) SWNTs in 3.75 mM ErCl3.\\n\\nconcentration of salt being added, SWNTs of identical chiralities\\nmay self aggregate. Manipulating surfactant equilibria in the manner\\ndemonstrated above shows significant promise toward separation\\nof SWNTs by diameter and crystallization of pure chiralities.\\nIsolation of the aggregates in analytically pure form will require\\noptimization of the stability of the aggregates, over the various\\nvectors such as solution temperature and the nature of the\\ncounterion, as we identify in this work.\\nAcknowledgment. We thank Brian Fishbine and Cris Lewis\\nfor help with setting up the FT-PLE system. This work was\\nsupported by LANL LDRD funding. T.J.M. and M.J.H. were\\nsupported by the U.S. Department of Energy, Office of Science,\\nSolar Photochemistry Research Program.\\nSupporting Information Available: Chirality specific emission\\nintensity vs SWNT diameter analysis for Figure 1A-D. This material\\nis available free of charge via the Internet at http://pubs.acs.org.\\nReferences\\n(1) Bales, B. L. J. Phys. Chem. B 2001, 105, 6798.\\n(2) O’Connell, M. J.; Bachilo, S. M.; Huffman, C. B.; Moore, V. C.; Strano,\\nM. S.; Haroz, E. H.; Rialon, K. L.; Boul, P. J.; Noon, W. H.; Kittrell, C.;\\nMa, J.; Hauge, R. H.; Weisman, B. R.; Smalley, R. E. Science 2002, 297,\\n593.\\n(3) Bachilo, S. M.; Strano, M. S.; Kittrell, C.; Hauge, R. H.; Smalley, R. E.;\\nWeisman, R. B. Science 2002, 298, 2361.\\n(4) Tan, Y.; Resasco, D. E. J. Phys. Chem. B 2005, 109, 14454.\\n(5) McDonald, T. J.; Jones, M.; Engtrakul, C.; Ellingson, R. J.; Rumbles, G.;\\nHeben, M. J. ReV. Sci. Instrum. 2006, 77, 053104.\\n(6) Wanless, E. J.; Ducker, W. A. J. Phys. Chem. B 1996, 100, 3207.\\n(7) Benrraou, M.; Bales, B. L.; Zana, R. J. Phys. Chem. B 2003, 107, 13432.\\n(8) Hayashi, S.; Ikeda, S. J. Phys. Chem. B 1980, 84, 744.\\n(9) Nakayama, H.; Shinoda, K. Bull. Chem. Soc. Jpn. 1967, 40, 1797.\\n(10) McDonald, T. J.; Engtrakul, C.; Jones, M.; Rumbles, G.; Heben, M. J.\\nJ. Phys. Chem. B 2006, 110, 25339.\\n(11) Israelachvili, J. N. Intermolecular and Surface Forces; Academic Press:\\nSan Diego, 1985.\\n\\nJA068321J\\nJ. AM. CHEM. SOC.\\n\\n9\\n\\nVOL. 129, NO. 7, 2007 1899\\n\\n\\x0c'"
      ]
     },
     "execution_count": 15,
     "metadata": {},
     "output_type": "execute_result"
    }
   ],
   "source": [
    "''.join(indices_char[i] for i in idx[:100000])"
   ]
  },
  {
   "cell_type": "markdown",
   "metadata": {},
   "source": [
    "## Don't Need if using the fastai library\n",
    "### Convert Text into Keywords"
   ]
  },
  {
   "cell_type": "code",
   "execution_count": null,
   "metadata": {},
   "outputs": [],
   "source": [
    "import nltk\n",
    "nltk.download('punkt')"
   ]
  },
  {
   "cell_type": "code",
   "execution_count": null,
   "metadata": {},
   "outputs": [],
   "source": [
    "#The word_tokenize() function will break our text phrases into #individual words\n",
    "tokens = word_tokenize(text, language = 'english', preserve_line = True)"
   ]
  },
  {
   "cell_type": "code",
   "execution_count": null,
   "metadata": {},
   "outputs": [],
   "source": [
    "#we'll create a new list which contains punctuation we wish to clean\n",
    "punctuations = ['(',')',';',':','[',']',',', ' ']"
   ]
  },
  {
   "cell_type": "code",
   "execution_count": null,
   "metadata": {},
   "outputs": [],
   "source": [
    "nltk.download('stopwords')"
   ]
  },
  {
   "cell_type": "code",
   "execution_count": null,
   "metadata": {},
   "outputs": [],
   "source": [
    "#We initialize the stopwords variable which is a list of words like #\"The\", \"I\", \"and\", etc. that don't hold much value as keywords\n",
    "stop_words = stopwords.words('english')"
   ]
  },
  {
   "cell_type": "code",
   "execution_count": null,
   "metadata": {},
   "outputs": [],
   "source": [
    "#We create a list comprehension which only returns a list of words #that are NOT IN stop_words and NOT IN punctuations.\n",
    "keywords = [word for word in tokens if not word in stop_words and not word in str(punctuations)]"
   ]
  },
  {
   "cell_type": "code",
   "execution_count": null,
   "metadata": {},
   "outputs": [],
   "source": [
    "print(keywords)"
   ]
  }
 ],
 "metadata": {
  "kernelspec": {
   "display_name": "Python 3",
   "language": "python",
   "name": "python3"
  },
  "language_info": {
   "codemirror_mode": {
    "name": "ipython",
    "version": 3
   },
   "file_extension": ".py",
   "mimetype": "text/x-python",
   "name": "python",
   "nbconvert_exporter": "python",
   "pygments_lexer": "ipython3",
   "version": "3.6.4"
  }
 },
 "nbformat": 4,
 "nbformat_minor": 2
}
